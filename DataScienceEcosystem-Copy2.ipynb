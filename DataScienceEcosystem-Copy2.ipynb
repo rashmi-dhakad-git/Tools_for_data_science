{
 "cells": [
  {
   "cell_type": "markdown",
   "id": "c9d9c44f",
   "metadata": {},
   "source": [
    "<b>Exercise 1:</b> Saved the notebook with the name."
   ]
  },
  {
   "cell_type": "markdown",
   "id": "6a19187e",
   "metadata": {},
   "source": [
    "<b>Exercise 2:</b>"
   ]
  },
  {
   "cell_type": "markdown",
   "id": "0de9a183",
   "metadata": {},
   "source": [
    "<h1>Data Science Tools and Ecosystem</h1>"
   ]
  },
  {
   "cell_type": "markdown",
   "id": "2d84b7a3",
   "metadata": {},
   "source": [
    "<b>Exercise 3:</b>"
   ]
  },
  {
   "cell_type": "markdown",
   "id": "c49e5716",
   "metadata": {},
   "source": [
    "<p>In this notebook, Data Science Tools and Ecosystem are summarized.</p>"
   ]
  },
  {
   "cell_type": "markdown",
   "id": "8624d9fb",
   "metadata": {},
   "source": [
    "<b>Exercise 10:</b>"
   ]
  },
  {
   "cell_type": "markdown",
   "id": "d086faea",
   "metadata": {},
   "source": [
    "<strong>Objectives:</strong>\n",
    "<ul>\n",
    "    <li>List popular languages that Data Scientists use.</li>\n",
    "    <li>Common libraries used in data science.</li>\n",
    "    <li>Data Science tools</li>\n",
    "</ul>\n",
    "    "
   ]
  },
  {
   "cell_type": "markdown",
   "id": "24e99e48",
   "metadata": {},
   "source": [
    "<b>Exercise 4:</b>"
   ]
  },
  {
   "cell_type": "markdown",
   "id": "2259a4e6",
   "metadata": {},
   "source": [
    "Some of the popular languages that Data Scientists use are:"
   ]
  },
  {
   "cell_type": "markdown",
   "id": "f2fcb8c5",
   "metadata": {},
   "source": [
    "<ol>\n",
    "    <li>Python.</li>\n",
    "    <li>R.</li>\n",
    "    <li>SQL.</li>\n",
    "    </ol>"
   ]
  },
  {
   "cell_type": "markdown",
   "id": "9fcf189b",
   "metadata": {},
   "source": [
    "<b>Exercise 5:</b>"
   ]
  },
  {
   "cell_type": "markdown",
   "id": "411fa3cd",
   "metadata": {},
   "source": [
    "Some of the commonly used libraries used by Data Scientists include:\n",
    "<ol>\n",
    "    <li>TensorFlow.</li>\n",
    "    <li>NumPy.</li>\n",
    "    <li>SciPy.</li>\n",
    "    <li>Pandas.</li>\n",
    "    </ol>"
   ]
  },
  {
   "cell_type": "markdown",
   "id": "9fbb3d2a",
   "metadata": {},
   "source": [
    "<strong>Exercise 6 - Create a markdown cell with a table of Data Science tools. (3 pts)</strong>"
   ]
  },
  {
   "cell_type": "markdown",
   "id": "35b8f4b4",
   "metadata": {},
   "source": [
    "Data Science Tools:\n",
    "\n",
    "<table style=\"width:100%\">\n",
    "  <tr>\n",
    "    <th>Data Science Tools</th>\n",
    "    <th></th>\n",
    "    <th></th>\n",
    "  </tr>\n",
    "  <tr>\n",
    "    <td>R studio</td>\n",
    "    <td></td>\n",
    "    <td></td>\n",
    "  </tr>\n",
    "  <tr>\n",
    "    <td>Anaconda</td>\n",
    "    <td></td>\n",
    "    <td></td>\n",
    "  </tr>\n",
    "  <tr>\n",
    "    <td>SQLite</td>\n",
    "    <td></td>\n",
    "    <td></td>\n",
    "  </tr>\n",
    "</table>"
   ]
  },
  {
   "cell_type": "markdown",
   "id": "52f4e029",
   "metadata": {},
   "source": [
    "<b>Exercise 7:</b>\n",
    "<h3>Below are a few examples of evaluating arithmetic expressions in Python</h3>"
   ]
  },
  {
   "cell_type": "code",
   "execution_count": 1,
   "id": "6a2c2b9b",
   "metadata": {},
   "outputs": [
    {
     "name": "stdout",
     "output_type": "stream",
     "text": [
      "3594\n"
     ]
    }
   ],
   "source": [
    "a=9*32+12+3294\n",
    "print(a)"
   ]
  },
  {
   "cell_type": "code",
   "execution_count": 2,
   "id": "285249d8",
   "metadata": {},
   "outputs": [
    {
     "name": "stdout",
     "output_type": "stream",
     "text": [
      "8\n"
     ]
    }
   ],
   "source": [
    "b=pow(2,3)\n",
    "print (b)"
   ]
  },
  {
   "cell_type": "markdown",
   "id": "4d35d130",
   "metadata": {},
   "source": [
    "<strong>Exercise 8 - Create a code cell to multiply and add numbers.(2 pts)</strong>"
   ]
  },
  {
   "cell_type": "code",
   "execution_count": 3,
   "id": "69c1c6a7",
   "metadata": {},
   "outputs": [
    {
     "data": {
      "text/plain": [
       "17"
      ]
     },
     "execution_count": 3,
     "metadata": {},
     "output_type": "execute_result"
    }
   ],
   "source": [
    "(3*4)+5"
   ]
  },
  {
   "cell_type": "markdown",
   "id": "ba9eabac",
   "metadata": {},
   "source": [
    "<strong>Exercise 9 - Create a code cell to convert minutes to hours. (2 pts)</strong>"
   ]
  },
  {
   "cell_type": "code",
   "execution_count": 4,
   "id": "0cd22f20",
   "metadata": {},
   "outputs": [
    {
     "name": "stdout",
     "output_type": "stream",
     "text": [
      "3.3333333333333335\n"
     ]
    }
   ],
   "source": [
    "t=200\n",
    "hours=t/60\n",
    "#for converting mins to hour we divide it by 60\n",
    "print(hours)"
   ]
  },
  {
   "cell_type": "markdown",
   "id": "50279917",
   "metadata": {},
   "source": [
    "<b>Exercise 11</b>"
   ]
  },
  {
   "cell_type": "markdown",
   "id": "264507d0",
   "metadata": {},
   "source": [
    "<h2>Author:</h2> Rashmi"
   ]
  }
 ],
 "metadata": {
  "kernelspec": {
   "display_name": "Python 3 (ipykernel)",
   "language": "python",
   "name": "python3"
  },
  "language_info": {
   "codemirror_mode": {
    "name": "ipython",
    "version": 3
   },
   "file_extension": ".py",
   "mimetype": "text/x-python",
   "name": "python",
   "nbconvert_exporter": "python",
   "pygments_lexer": "ipython3",
   "version": "3.11.3"
  }
 },
 "nbformat": 4,
 "nbformat_minor": 5
}
